{
 "cells": [
  {
   "cell_type": "markdown",
   "id": "nasty-safety",
   "metadata": {},
   "source": [
    "# Project Code Draft ##\n",
    "\n",
    "## Import Statements ##"
   ]
  },
  {
   "cell_type": "code",
   "execution_count": 23,
   "id": "facial-concord",
   "metadata": {},
   "outputs": [],
   "source": [
    "import scipy.io as sio\n",
    "import mne\n",
    "import pandas as pd\n",
    "import numpy as np\n",
    "import matplotlib.pyplot as plt\n",
    "import seaborn as sns\n",
    "import pickle\n",
    "from sklearn.svm import SVC\n",
    "from sklearn.model_selection import train_test_split, GridSearchCV, KFold\n",
    "from sklearn.metrics import accuracy_score, roc_auc_score\n",
    "from sklearn.discriminant_analysis import LinearDiscriminantAnalysis as LDA\n",
    "from sklearn.decomposition import PCA\n",
    "from sklearn.tree import DecisionTreeClassifier\n",
    "from sklearn.ensemble import AdaBoostClassifier, RandomForestClassifier\n",
    "sns.set()"
   ]
  },
  {
   "cell_type": "markdown",
   "id": "innovative-seeking",
   "metadata": {},
   "source": [
    "## Data Pre-processing Methods ##"
   ]
  },
  {
   "cell_type": "code",
   "execution_count": 2,
   "id": "strong-batch",
   "metadata": {},
   "outputs": [],
   "source": [
    "#function-type alias for use in type hints\n",
    "function = type(lambda x: x)\n",
    "#Data Dimensionality Reduction Methods\n",
    "def sliding_window(X:np.ndarray, window_length:int, step_size:int, step:int):\n",
    "    w_start_idx = step_size*step\n",
    "    w_end_idx = min( [X.shape[1]-1, w_start_idx + window_length] )\n",
    "    return X[:, w_start_idx:w_end_idx, :]\n",
    "\n",
    "def calc_lrp(X:np.ndarray): \n",
    "    X_reduced = X[23,:,:] - X[7,:,:]\n",
    "    return X_reduced.T\n",
    "\n",
    "def sliding_lrp(X:np.ndarray, window_length:int, step_size:int, step:int):\n",
    "    return calc_lrp(sliding_window(X, window_length, step_size, step))\n",
    "\n",
    "def csp_transform(X:np.ndarray, y:np.ndarray, n_components:int):\n",
    "    dim = X.shape\n",
    "    X_shaped = X.reshape(dim[2], dim[0], dim[1])\n",
    "    csp = mne.decoding.CSP(n_components)\n",
    "    csp.fit(X_shaped, y)\n",
    "    return csp.transform(X_shaped)\n",
    "    \n",
    "def sliding_csp_transform(X:np.ndarray,\n",
    "                          y:np.ndarray, \n",
    "                          n_components:int,\n",
    "                          window_length:int, \n",
    "                          step_size:int,\n",
    "                          step:int):\n",
    "    X_window = sliding_window(X, window_length, step_size, step)\n",
    "    return csp_transform(X_window, y, n_components)\n",
    "    \n",
    "\n",
    "def Format(X:np.ndarray, \n",
    "           y:np.ndarray,  \n",
    "           reduction_method:function, \n",
    "           reduction_method_args=None,\n",
    "           trials_in_A:int=100):\n",
    "    if type(reduction_method_args) == dict:\n",
    "        X_reduced = reduction_method(X, **reduction_method_args)\n",
    "    elif type(reduction_method_args) == list:\n",
    "        X_reduced = reduction_method(X, *reduction_method_args)\n",
    "    else:\n",
    "        X_reduced = reduction_method(X)\n",
    "    condition_A_data_dict, condition_B_data_dict = condition_split(X_reduced, y, trials_in_A)\n",
    "    return condition_A_data_dict, condition_B_data_dict\n",
    "\n",
    "def condition_split(X:np.ndarray, y:np.ndarray, trials_in_A:int):\n",
    "    AX, BX = X[:trials_in_A], X[trials_in_A:]\n",
    "    Ay, By = y[:trials_in_A], y[trials_in_A:]\n",
    "    A_dict = {'X': AX, 'y': Ay}\n",
    "    B_dict = {'X': BX, 'y': By}\n",
    "    return A_dict, B_dict\n"
   ]
  },
  {
   "cell_type": "markdown",
   "id": "innocent-trader",
   "metadata": {},
   "source": [
    "## Hyperparameter Tuning ##"
   ]
  },
  {
   "cell_type": "markdown",
   "id": "blessed-theta",
   "metadata": {},
   "source": [
    "#### Read in Hyperparameter Tuning Data ####"
   ]
  },
  {
   "cell_type": "code",
   "execution_count": 3,
   "id": "least-ceiling",
   "metadata": {},
   "outputs": [],
   "source": [
    "data = sio.loadmat('../Data/data_cube_subject1.mat')\n",
    "channel_labels = sio.loadmat('../Data/channel_label.mat')\n",
    "data_cube = data['data_cube']\n",
    "data_labels = data['event_label'].ravel()"
   ]
  },
  {
   "cell_type": "markdown",
   "id": "agreed-franklin",
   "metadata": {},
   "source": [
    "#### Hyperparameter Tuning Constants ####"
   ]
  },
  {
   "cell_type": "code",
   "execution_count": 4,
   "id": "enabling-catalyst",
   "metadata": {},
   "outputs": [],
   "source": [
    "#Hyperparameter dictionaries for use in grid search\n",
    "ada_params = {\n",
    "    'n_estimators': [50, 100, 200, 500],\n",
    "    'learning_rate': [x/20 for x in range(1,21)],\n",
    "    'algorithm': ['SAMME', 'SAMME.R']\n",
    "}\n",
    "\n",
    "rf_params = {\n",
    "    'n_estimators': [50, 100, 200, 500],\n",
    "    'criterion': ['gini', 'entropy'],\n",
    "    'max_depth': (None, 10, 50, 100, 500),\n",
    "    'min_samples_split': [2, 4, 5],\n",
    "    'min_samples_leaf': [1, 2, 4],\n",
    "    'max_features': ('auto', 'sqrt', 'log2', None),\n",
    "    'min_impurity_split': (None, 0.5)\n",
    "}\n",
    "\n",
    "#Dictionary of classifiers and hyperparemeter selections\n",
    "clfs = {\n",
    "    'RandomForestClassifier': RandomForestClassifier(),\n",
    "    'AdaBoostClassifier': AdaBoostClassifier()\n",
    "}\n",
    "\n",
    "params = {\n",
    "    'RandomForestClassifier': rf_params,\n",
    "    'AdaBoostClassifier': ada_params\n",
    "}\n",
    "\n",
    "#data dimensionality reduction methods to opitmize for\n",
    "    #note that csp transform will use n_components=4 for model hyperparameter tuning\n",
    "    # n_components will be finalized in another round of cross-validation\n",
    "    # runtime to validate all combinations of n_components and model hyperparameters too long\n",
    "    # for our current computational capacity so this will have to do\n",
    "reduction_methods = {\n",
    "    'lsp': calc_lrp,\n",
    "    'csp': lambda X: csp_transform(X, data_labels, 4)\n",
    "}"
   ]
  },
  {
   "cell_type": "code",
   "execution_count": 5,
   "id": "qualified-weapon",
   "metadata": {},
   "outputs": [],
   "source": [
    "\n",
    "def tune_multiple_models(data_matrix:np.ndarray, \n",
    "                         data_labels:np.ndarray, \n",
    "                         trials_in_A:int=100, \n",
    "                         clf_list:list=None, \n",
    "                         reduction_method_list:list=None):\n",
    "    if clf_list==None:\n",
    "        clf_list = [key for key in clfs]\n",
    "    if reduction_method_list==None:\n",
    "        reduction_method_list = [key for key in reduction_methods]\n",
    "    tuned_models = []\n",
    "    for clf_ident in clf_list:\n",
    "        for reduction_method_ident in reduction_method_list:\n",
    "            tuned_models.append(tune_model(data_matrix, \n",
    "                                           data_labels, \n",
    "                                           trials_in_A,\n",
    "                                           clf_ident, \n",
    "                                           reduction_method_ident) )\n",
    "    return tuned_models\n",
    "\n",
    "def tune_model(data_matrix:np.ndarray, \n",
    "               data_labels:np.ndarray,\n",
    "               trials_in_A:int,\n",
    "               clf_ident:str, \n",
    "               reduction_method_ident:str):\n",
    "    #obtain classifier, hyperparameters from corresponding dictionaries\n",
    "    clf = clfs[clf_ident]\n",
    "    hyperparam_dict = params[clf_ident]\n",
    "    reduction_method = reduction_methods[reduction_method_ident]\n",
    "    #apply dimensionality reduction to data and split into different experiment classes\n",
    "    A_dict, B_dict = Format(data_matrix, data_labels, reduction_method, trials_in_A=trials_in_A)\n",
    "    #tune model\n",
    "    #For model hyperparameter tuning, use both A and B\n",
    "    #TODO: When we have more data, it might be better to tune separate models for A and B classes\n",
    "        #At the moment there is not enough data to tune each class independently\n",
    "    X = np.vstack( [A_dict['X'], B_dict['X']] )\n",
    "    y = np.hstack( [A_dict['y'], B_dict['y']] )\n",
    "    clf_mod = GridSearchCV(clf, hyperparam_dict, n_jobs=7)\n",
    "    clf_mod.fit(X,y)\n",
    "    return {\n",
    "        'clf_type': clf_ident,\n",
    "        'reduction_method': reduction_method_ident,\n",
    "        'clf': clf_mod\n",
    "    }\n",
    "\n",
    "\n"
   ]
  },
  {
   "cell_type": "code",
   "execution_count": 6,
   "id": "living-function",
   "metadata": {},
   "outputs": [
    {
     "name": "stdout",
     "output_type": "stream",
     "text": [
      "Computing rank from data with rank=None\n",
      "    Using tolerance 1.5e+02 (2.2e-16 eps * 64 dim * 1.1e+16  max singular value)\n",
      "    Estimated rank (mag): 64\n",
      "    MAG: rank 64 computed from 64 data channels with 0 projectors\n",
      "Reducing data rank from 64 -> 64\n",
      "Estimating covariance using EMPIRICAL\n",
      "Done.\n",
      "Computing rank from data with rank=None\n",
      "    Using tolerance 1.6e+02 (2.2e-16 eps * 64 dim * 1.1e+16  max singular value)\n",
      "    Estimated rank (mag): 64\n",
      "    MAG: rank 64 computed from 64 data channels with 0 projectors\n",
      "Reducing data rank from 64 -> 64\n",
      "Estimating covariance using EMPIRICAL\n",
      "Done.\n",
      "Computing rank from data with rank=None\n",
      "    Using tolerance 1.5e+02 (2.2e-16 eps * 64 dim * 1.1e+16  max singular value)\n",
      "    Estimated rank (mag): 64\n",
      "    MAG: rank 64 computed from 64 data channels with 0 projectors\n",
      "Reducing data rank from 64 -> 64\n",
      "Estimating covariance using EMPIRICAL\n",
      "Done.\n",
      "Computing rank from data with rank=None\n",
      "    Using tolerance 1.6e+02 (2.2e-16 eps * 64 dim * 1.1e+16  max singular value)\n",
      "    Estimated rank (mag): 64\n",
      "    MAG: rank 64 computed from 64 data channels with 0 projectors\n",
      "Reducing data rank from 64 -> 64\n",
      "Estimating covariance using EMPIRICAL\n",
      "Done.\n",
      "CPU times: user 1min 41s, sys: 29.3 s, total: 2min 10s\n",
      "Wall time: 5h 10min 51s\n"
     ]
    },
    {
     "ename": "PicklingError",
     "evalue": "Can't pickle <function <lambda> at 0x7f381c1dc9d0>: attribute lookup <lambda> on __main__ failed",
     "output_type": "error",
     "traceback": [
      "\u001b[0;31m---------------------------------------------------------------------------\u001b[0m",
      "\u001b[0;31mPicklingError\u001b[0m                             Traceback (most recent call last)",
      "\u001b[0;32m<ipython-input-6-9c13ae47e060>\u001b[0m in \u001b[0;36m<module>\u001b[0;34m\u001b[0m\n\u001b[1;32m      1\u001b[0m \u001b[0mget_ipython\u001b[0m\u001b[0;34m(\u001b[0m\u001b[0;34m)\u001b[0m\u001b[0;34m.\u001b[0m\u001b[0mrun_line_magic\u001b[0m\u001b[0;34m(\u001b[0m\u001b[0;34m'time'\u001b[0m\u001b[0;34m,\u001b[0m \u001b[0;34m'trained_clfs = tune_multiple_models(data_cube, data_labels)'\u001b[0m\u001b[0;34m)\u001b[0m\u001b[0;34m\u001b[0m\u001b[0;34m\u001b[0m\u001b[0m\n\u001b[1;32m      2\u001b[0m \u001b[0;32mwith\u001b[0m \u001b[0mopen\u001b[0m\u001b[0;34m(\u001b[0m\u001b[0;34m'./bin/clfs.p'\u001b[0m\u001b[0;34m,\u001b[0m\u001b[0;34m'wb'\u001b[0m\u001b[0;34m)\u001b[0m \u001b[0;32mas\u001b[0m \u001b[0mclf_pickle_file\u001b[0m\u001b[0;34m:\u001b[0m\u001b[0;34m\u001b[0m\u001b[0;34m\u001b[0m\u001b[0m\n\u001b[0;32m----> 3\u001b[0;31m     \u001b[0mpickle\u001b[0m\u001b[0;34m.\u001b[0m\u001b[0mdump\u001b[0m\u001b[0;34m(\u001b[0m\u001b[0mtrained_clfs\u001b[0m\u001b[0;34m,\u001b[0m \u001b[0mclf_pickle_file\u001b[0m\u001b[0;34m)\u001b[0m\u001b[0;34m\u001b[0m\u001b[0;34m\u001b[0m\u001b[0m\n\u001b[0m",
      "\u001b[0;31mPicklingError\u001b[0m: Can't pickle <function <lambda> at 0x7f381c1dc9d0>: attribute lookup <lambda> on __main__ failed"
     ]
    }
   ],
   "source": [
    "#Tune hyperparameters. WARNING: This code block takes approximatley 5 hours to complete on 7 cores\n",
    "%time trained_clfs = tune_multiple_models(data_cube, data_labels)\n",
    "with open('./bin/clfs.p','wb') as clf_pickle_file:\n",
    "    pickle.dump(trained_clfs, clf_pickle_file)"
   ]
  },
  {
   "cell_type": "code",
   "execution_count": 22,
   "id": "floral-copper",
   "metadata": {},
   "outputs": [
    {
     "data": {
      "text/plain": [
       "{'clf_type': 'AdaBoostClassifier',\n",
       " 'reduction_method': 'csp',\n",
       " 'clf': GridSearchCV(estimator=AdaBoostClassifier(), n_jobs=7,\n",
       "              param_grid={'algorithm': ['SAMME', 'SAMME.R'],\n",
       "                          'learning_rate': [0.05, 0.1, 0.15, 0.2, 0.25, 0.3,\n",
       "                                            0.35, 0.4, 0.45, 0.5, 0.55, 0.6,\n",
       "                                            0.65, 0.7, 0.75, 0.8, 0.85, 0.9,\n",
       "                                            0.95, 1.0],\n",
       "                          'n_estimators': [50, 100, 200, 500]})}"
      ]
     },
     "execution_count": 22,
     "metadata": {},
     "output_type": "execute_result"
    }
   ],
   "source": [
    "trained_clfs[3]"
   ]
  },
  {
   "cell_type": "code",
   "execution_count": 18,
   "id": "committed-railway",
   "metadata": {},
   "outputs": [
    {
     "data": {
      "text/plain": [
       "{'algorithm': 'SAMME', 'learning_rate': 0.75, 'n_estimators': 100}"
      ]
     },
     "execution_count": 18,
     "metadata": {},
     "output_type": "execute_result"
    }
   ],
   "source": [
    "trained_clfs[3]['clf'].best_params_"
   ]
  },
  {
   "cell_type": "markdown",
   "id": "strong-worker",
   "metadata": {},
   "source": [
    "#### Tune n_components for CSP Data Reduction ###"
   ]
  },
  {
   "cell_type": "code",
   "execution_count": null,
   "id": "cardiac-neighborhood",
   "metadata": {},
   "outputs": [],
   "source": [
    "csp_tuned_models = [ x for x in trained_clfs if x['reduction_method'] == 'csp']\n",
    "n_component_candidates = [x for x in range(1,10)]\n",
    "\n",
    "def tune_csp_args(X:np.ndarray=data_cube, \n",
    "                  y:np.ndarray=data_labels, \n",
    "                  csp_models:list=csp_tuned_models, \n",
    "                  n_component_list:list=n_component_candidates):\n",
    "    for clf_dict in csp_tuned_models:\n",
    "        best_n = None\n",
    "        best_acc = -1\n",
    "        for n_components in n_component_candidates:\n",
    "            acc_list = []\n",
    "            cv = KFold(shuffle=True)\n",
    "            csp_args = {'y': data_labels, 'n_components': n_components}\n",
    "            A_dict, B_dict = Format(X, y, csp_transform, csp_args)\n",
    "            X_formatted = np.vstack( [A_dict['X'], B_dict['X']] )\n",
    "            y_formatted = np.hstack( [A_dict['y'], B_dict['y']] )        \n",
    "            for train_idx, test_idx in cv.split(X):\n",
    "                X_tr, y_tr = X_formatted[train_idx], y_formatted[train_idx]\n",
    "                X_ts, y_ts = X_formatted[test_idx], y_formatted[test_idx]\n",
    "                mod = clf_dict['clf']\n",
    "                mod.fit(X_tr, y_tr)\n",
    "                y_pred = mod.predict(X_ts)\n",
    "                trial_acc = accuracy_score(y_ts, y_pred)\n",
    "                acc_list.append(trial_acc)\n",
    "            ave_acc = sum(acc_list)/len(acc_list)\n",
    "            if ave_acc > best_acc:\n",
    "                best_acc = ave_acc\n",
    "                best_n = n_components\n",
    "        clf_dict['csp_n_components'] = best_n\n",
    "    return clf_dict"
   ]
  },
  {
   "cell_type": "code",
   "execution_count": null,
   "id": "personalized-sight",
   "metadata": {},
   "outputs": [
    {
     "name": "stdout",
     "output_type": "stream",
     "text": [
      "Computing rank from data with rank=None\n",
      "    Using tolerance 1.5e+02 (2.2e-16 eps * 64 dim * 1.1e+16  max singular value)\n",
      "    Estimated rank (mag): 64\n",
      "    MAG: rank 64 computed from 64 data channels with 0 projectors\n",
      "Reducing data rank from 64 -> 64\n",
      "Estimating covariance using EMPIRICAL\n",
      "Done.\n",
      "Computing rank from data with rank=None\n",
      "    Using tolerance 1.6e+02 (2.2e-16 eps * 64 dim * 1.1e+16  max singular value)\n",
      "    Estimated rank (mag): 64\n",
      "    MAG: rank 64 computed from 64 data channels with 0 projectors\n",
      "Reducing data rank from 64 -> 64\n",
      "Estimating covariance using EMPIRICAL\n",
      "Done.\n"
     ]
    },
    {
     "name": "stderr",
     "output_type": "stream",
     "text": [
      "/home/dominic/.local/lib/python3.8/site-packages/sklearn/tree/_classes.py:315: FutureWarning: The min_impurity_split parameter is deprecated. Its default value has changed from 1e-7 to 0 in version 0.23, and it will be removed in 1.0 (renaming of 0.25). Use the min_impurity_decrease parameter instead.\n",
      "  warnings.warn(\n",
      "/home/dominic/.local/lib/python3.8/site-packages/sklearn/tree/_classes.py:315: FutureWarning: The min_impurity_split parameter is deprecated. Its default value has changed from 1e-7 to 0 in version 0.23, and it will be removed in 1.0 (renaming of 0.25). Use the min_impurity_decrease parameter instead.\n",
      "  warnings.warn(\n",
      "/home/dominic/.local/lib/python3.8/site-packages/sklearn/tree/_classes.py:315: FutureWarning: The min_impurity_split parameter is deprecated. Its default value has changed from 1e-7 to 0 in version 0.23, and it will be removed in 1.0 (renaming of 0.25). Use the min_impurity_decrease parameter instead.\n",
      "  warnings.warn(\n",
      "/home/dominic/.local/lib/python3.8/site-packages/sklearn/tree/_classes.py:315: FutureWarning: The min_impurity_split parameter is deprecated. Its default value has changed from 1e-7 to 0 in version 0.23, and it will be removed in 1.0 (renaming of 0.25). Use the min_impurity_decrease parameter instead.\n",
      "  warnings.warn(\n",
      "/home/dominic/.local/lib/python3.8/site-packages/sklearn/tree/_classes.py:315: FutureWarning: The min_impurity_split parameter is deprecated. Its default value has changed from 1e-7 to 0 in version 0.23, and it will be removed in 1.0 (renaming of 0.25). Use the min_impurity_decrease parameter instead.\n",
      "  warnings.warn(\n",
      "/home/dominic/.local/lib/python3.8/site-packages/sklearn/tree/_classes.py:315: FutureWarning: The min_impurity_split parameter is deprecated. Its default value has changed from 1e-7 to 0 in version 0.23, and it will be removed in 1.0 (renaming of 0.25). Use the min_impurity_decrease parameter instead.\n",
      "  warnings.warn(\n",
      "/home/dominic/.local/lib/python3.8/site-packages/sklearn/tree/_classes.py:315: FutureWarning: The min_impurity_split parameter is deprecated. Its default value has changed from 1e-7 to 0 in version 0.23, and it will be removed in 1.0 (renaming of 0.25). Use the min_impurity_decrease parameter instead.\n",
      "  warnings.warn(\n",
      "/home/dominic/.local/lib/python3.8/site-packages/sklearn/tree/_classes.py:315: FutureWarning: The min_impurity_split parameter is deprecated. Its default value has changed from 1e-7 to 0 in version 0.23, and it will be removed in 1.0 (renaming of 0.25). Use the min_impurity_decrease parameter instead.\n",
      "  warnings.warn(\n",
      "/home/dominic/.local/lib/python3.8/site-packages/sklearn/tree/_classes.py:315: FutureWarning: The min_impurity_split parameter is deprecated. Its default value has changed from 1e-7 to 0 in version 0.23, and it will be removed in 1.0 (renaming of 0.25). Use the min_impurity_decrease parameter instead.\n",
      "  warnings.warn(\n",
      "/home/dominic/.local/lib/python3.8/site-packages/sklearn/tree/_classes.py:315: FutureWarning: The min_impurity_split parameter is deprecated. Its default value has changed from 1e-7 to 0 in version 0.23, and it will be removed in 1.0 (renaming of 0.25). Use the min_impurity_decrease parameter instead.\n",
      "  warnings.warn(\n",
      "/home/dominic/.local/lib/python3.8/site-packages/sklearn/tree/_classes.py:315: FutureWarning: The min_impurity_split parameter is deprecated. Its default value has changed from 1e-7 to 0 in version 0.23, and it will be removed in 1.0 (renaming of 0.25). Use the min_impurity_decrease parameter instead.\n",
      "  warnings.warn(\n",
      "/home/dominic/.local/lib/python3.8/site-packages/sklearn/tree/_classes.py:315: FutureWarning: The min_impurity_split parameter is deprecated. Its default value has changed from 1e-7 to 0 in version 0.23, and it will be removed in 1.0 (renaming of 0.25). Use the min_impurity_decrease parameter instead.\n",
      "  warnings.warn(\n",
      "/home/dominic/.local/lib/python3.8/site-packages/sklearn/tree/_classes.py:315: FutureWarning: The min_impurity_split parameter is deprecated. Its default value has changed from 1e-7 to 0 in version 0.23, and it will be removed in 1.0 (renaming of 0.25). Use the min_impurity_decrease parameter instead.\n",
      "  warnings.warn(\n",
      "/home/dominic/.local/lib/python3.8/site-packages/sklearn/tree/_classes.py:315: FutureWarning: The min_impurity_split parameter is deprecated. Its default value has changed from 1e-7 to 0 in version 0.23, and it will be removed in 1.0 (renaming of 0.25). Use the min_impurity_decrease parameter instead.\n",
      "  warnings.warn(\n",
      "/home/dominic/.local/lib/python3.8/site-packages/sklearn/tree/_classes.py:315: FutureWarning: The min_impurity_split parameter is deprecated. Its default value has changed from 1e-7 to 0 in version 0.23, and it will be removed in 1.0 (renaming of 0.25). Use the min_impurity_decrease parameter instead.\n",
      "  warnings.warn(\n",
      "/home/dominic/.local/lib/python3.8/site-packages/sklearn/tree/_classes.py:315: FutureWarning: The min_impurity_split parameter is deprecated. Its default value has changed from 1e-7 to 0 in version 0.23, and it will be removed in 1.0 (renaming of 0.25). Use the min_impurity_decrease parameter instead.\n",
      "  warnings.warn(\n",
      "/home/dominic/.local/lib/python3.8/site-packages/sklearn/tree/_classes.py:315: FutureWarning: The min_impurity_split parameter is deprecated. Its default value has changed from 1e-7 to 0 in version 0.23, and it will be removed in 1.0 (renaming of 0.25). Use the min_impurity_decrease parameter instead.\n",
      "  warnings.warn(\n",
      "/home/dominic/.local/lib/python3.8/site-packages/sklearn/tree/_classes.py:315: FutureWarning: The min_impurity_split parameter is deprecated. Its default value has changed from 1e-7 to 0 in version 0.23, and it will be removed in 1.0 (renaming of 0.25). Use the min_impurity_decrease parameter instead.\n",
      "  warnings.warn(\n",
      "/home/dominic/.local/lib/python3.8/site-packages/sklearn/tree/_classes.py:315: FutureWarning: The min_impurity_split parameter is deprecated. Its default value has changed from 1e-7 to 0 in version 0.23, and it will be removed in 1.0 (renaming of 0.25). Use the min_impurity_decrease parameter instead.\n",
      "  warnings.warn(\n",
      "/home/dominic/.local/lib/python3.8/site-packages/sklearn/tree/_classes.py:315: FutureWarning: The min_impurity_split parameter is deprecated. Its default value has changed from 1e-7 to 0 in version 0.23, and it will be removed in 1.0 (renaming of 0.25). Use the min_impurity_decrease parameter instead.\n",
      "  warnings.warn(\n",
      "/home/dominic/.local/lib/python3.8/site-packages/sklearn/tree/_classes.py:315: FutureWarning: The min_impurity_split parameter is deprecated. Its default value has changed from 1e-7 to 0 in version 0.23, and it will be removed in 1.0 (renaming of 0.25). Use the min_impurity_decrease parameter instead.\n",
      "  warnings.warn(\n",
      "/home/dominic/.local/lib/python3.8/site-packages/sklearn/tree/_classes.py:315: FutureWarning: The min_impurity_split parameter is deprecated. Its default value has changed from 1e-7 to 0 in version 0.23, and it will be removed in 1.0 (renaming of 0.25). Use the min_impurity_decrease parameter instead.\n",
      "  warnings.warn(\n",
      "/home/dominic/.local/lib/python3.8/site-packages/sklearn/tree/_classes.py:315: FutureWarning: The min_impurity_split parameter is deprecated. Its default value has changed from 1e-7 to 0 in version 0.23, and it will be removed in 1.0 (renaming of 0.25). Use the min_impurity_decrease parameter instead.\n",
      "  warnings.warn(\n",
      "/home/dominic/.local/lib/python3.8/site-packages/sklearn/tree/_classes.py:315: FutureWarning: The min_impurity_split parameter is deprecated. Its default value has changed from 1e-7 to 0 in version 0.23, and it will be removed in 1.0 (renaming of 0.25). Use the min_impurity_decrease parameter instead.\n",
      "  warnings.warn(\n",
      "/home/dominic/.local/lib/python3.8/site-packages/sklearn/tree/_classes.py:315: FutureWarning: The min_impurity_split parameter is deprecated. Its default value has changed from 1e-7 to 0 in version 0.23, and it will be removed in 1.0 (renaming of 0.25). Use the min_impurity_decrease parameter instead.\n",
      "  warnings.warn(\n",
      "/home/dominic/.local/lib/python3.8/site-packages/sklearn/tree/_classes.py:315: FutureWarning: The min_impurity_split parameter is deprecated. Its default value has changed from 1e-7 to 0 in version 0.23, and it will be removed in 1.0 (renaming of 0.25). Use the min_impurity_decrease parameter instead.\n",
      "  warnings.warn(\n",
      "/home/dominic/.local/lib/python3.8/site-packages/sklearn/tree/_classes.py:315: FutureWarning: The min_impurity_split parameter is deprecated. Its default value has changed from 1e-7 to 0 in version 0.23, and it will be removed in 1.0 (renaming of 0.25). Use the min_impurity_decrease parameter instead.\n",
      "  warnings.warn(\n",
      "/home/dominic/.local/lib/python3.8/site-packages/sklearn/tree/_classes.py:315: FutureWarning: The min_impurity_split parameter is deprecated. Its default value has changed from 1e-7 to 0 in version 0.23, and it will be removed in 1.0 (renaming of 0.25). Use the min_impurity_decrease parameter instead.\n",
      "  warnings.warn(\n",
      "/home/dominic/.local/lib/python3.8/site-packages/sklearn/tree/_classes.py:315: FutureWarning: The min_impurity_split parameter is deprecated. Its default value has changed from 1e-7 to 0 in version 0.23, and it will be removed in 1.0 (renaming of 0.25). Use the min_impurity_decrease parameter instead.\n",
      "  warnings.warn(\n",
      "/home/dominic/.local/lib/python3.8/site-packages/sklearn/tree/_classes.py:315: FutureWarning: The min_impurity_split parameter is deprecated. Its default value has changed from 1e-7 to 0 in version 0.23, and it will be removed in 1.0 (renaming of 0.25). Use the min_impurity_decrease parameter instead.\n",
      "  warnings.warn(\n",
      "/home/dominic/.local/lib/python3.8/site-packages/sklearn/tree/_classes.py:315: FutureWarning: The min_impurity_split parameter is deprecated. Its default value has changed from 1e-7 to 0 in version 0.23, and it will be removed in 1.0 (renaming of 0.25). Use the min_impurity_decrease parameter instead.\n",
      "  warnings.warn(\n",
      "/home/dominic/.local/lib/python3.8/site-packages/sklearn/tree/_classes.py:315: FutureWarning: The min_impurity_split parameter is deprecated. Its default value has changed from 1e-7 to 0 in version 0.23, and it will be removed in 1.0 (renaming of 0.25). Use the min_impurity_decrease parameter instead.\n",
      "  warnings.warn(\n",
      "/home/dominic/.local/lib/python3.8/site-packages/sklearn/tree/_classes.py:315: FutureWarning: The min_impurity_split parameter is deprecated. Its default value has changed from 1e-7 to 0 in version 0.23, and it will be removed in 1.0 (renaming of 0.25). Use the min_impurity_decrease parameter instead.\n",
      "  warnings.warn(\n",
      "/home/dominic/.local/lib/python3.8/site-packages/sklearn/tree/_classes.py:315: FutureWarning: The min_impurity_split parameter is deprecated. Its default value has changed from 1e-7 to 0 in version 0.23, and it will be removed in 1.0 (renaming of 0.25). Use the min_impurity_decrease parameter instead.\n",
      "  warnings.warn(\n",
      "/home/dominic/.local/lib/python3.8/site-packages/sklearn/tree/_classes.py:315: FutureWarning: The min_impurity_split parameter is deprecated. Its default value has changed from 1e-7 to 0 in version 0.23, and it will be removed in 1.0 (renaming of 0.25). Use the min_impurity_decrease parameter instead.\n",
      "  warnings.warn(\n",
      "/home/dominic/.local/lib/python3.8/site-packages/sklearn/tree/_classes.py:315: FutureWarning: The min_impurity_split parameter is deprecated. Its default value has changed from 1e-7 to 0 in version 0.23, and it will be removed in 1.0 (renaming of 0.25). Use the min_impurity_decrease parameter instead.\n",
      "  warnings.warn(\n",
      "/home/dominic/.local/lib/python3.8/site-packages/sklearn/tree/_classes.py:315: FutureWarning: The min_impurity_split parameter is deprecated. Its default value has changed from 1e-7 to 0 in version 0.23, and it will be removed in 1.0 (renaming of 0.25). Use the min_impurity_decrease parameter instead.\n",
      "  warnings.warn(\n",
      "/home/dominic/.local/lib/python3.8/site-packages/sklearn/tree/_classes.py:315: FutureWarning: The min_impurity_split parameter is deprecated. Its default value has changed from 1e-7 to 0 in version 0.23, and it will be removed in 1.0 (renaming of 0.25). Use the min_impurity_decrease parameter instead.\n",
      "  warnings.warn(\n",
      "/home/dominic/.local/lib/python3.8/site-packages/sklearn/tree/_classes.py:315: FutureWarning: The min_impurity_split parameter is deprecated. Its default value has changed from 1e-7 to 0 in version 0.23, and it will be removed in 1.0 (renaming of 0.25). Use the min_impurity_decrease parameter instead.\n",
      "  warnings.warn(\n",
      "/home/dominic/.local/lib/python3.8/site-packages/sklearn/tree/_classes.py:315: FutureWarning: The min_impurity_split parameter is deprecated. Its default value has changed from 1e-7 to 0 in version 0.23, and it will be removed in 1.0 (renaming of 0.25). Use the min_impurity_decrease parameter instead.\n",
      "  warnings.warn(\n",
      "/home/dominic/.local/lib/python3.8/site-packages/sklearn/tree/_classes.py:315: FutureWarning: The min_impurity_split parameter is deprecated. Its default value has changed from 1e-7 to 0 in version 0.23, and it will be removed in 1.0 (renaming of 0.25). Use the min_impurity_decrease parameter instead.\n",
      "  warnings.warn(\n",
      "/home/dominic/.local/lib/python3.8/site-packages/sklearn/tree/_classes.py:315: FutureWarning: The min_impurity_split parameter is deprecated. Its default value has changed from 1e-7 to 0 in version 0.23, and it will be removed in 1.0 (renaming of 0.25). Use the min_impurity_decrease parameter instead.\n",
      "  warnings.warn(\n",
      "/home/dominic/.local/lib/python3.8/site-packages/sklearn/tree/_classes.py:315: FutureWarning: The min_impurity_split parameter is deprecated. Its default value has changed from 1e-7 to 0 in version 0.23, and it will be removed in 1.0 (renaming of 0.25). Use the min_impurity_decrease parameter instead.\n",
      "  warnings.warn(\n",
      "/home/dominic/.local/lib/python3.8/site-packages/sklearn/tree/_classes.py:315: FutureWarning: The min_impurity_split parameter is deprecated. Its default value has changed from 1e-7 to 0 in version 0.23, and it will be removed in 1.0 (renaming of 0.25). Use the min_impurity_decrease parameter instead.\n",
      "  warnings.warn(\n",
      "/home/dominic/.local/lib/python3.8/site-packages/sklearn/tree/_classes.py:315: FutureWarning: The min_impurity_split parameter is deprecated. Its default value has changed from 1e-7 to 0 in version 0.23, and it will be removed in 1.0 (renaming of 0.25). Use the min_impurity_decrease parameter instead.\n",
      "  warnings.warn(\n",
      "/home/dominic/.local/lib/python3.8/site-packages/sklearn/tree/_classes.py:315: FutureWarning: The min_impurity_split parameter is deprecated. Its default value has changed from 1e-7 to 0 in version 0.23, and it will be removed in 1.0 (renaming of 0.25). Use the min_impurity_decrease parameter instead.\n",
      "  warnings.warn(\n",
      "/home/dominic/.local/lib/python3.8/site-packages/sklearn/tree/_classes.py:315: FutureWarning: The min_impurity_split parameter is deprecated. Its default value has changed from 1e-7 to 0 in version 0.23, and it will be removed in 1.0 (renaming of 0.25). Use the min_impurity_decrease parameter instead.\n",
      "  warnings.warn(\n",
      "/home/dominic/.local/lib/python3.8/site-packages/sklearn/tree/_classes.py:315: FutureWarning: The min_impurity_split parameter is deprecated. Its default value has changed from 1e-7 to 0 in version 0.23, and it will be removed in 1.0 (renaming of 0.25). Use the min_impurity_decrease parameter instead.\n",
      "  warnings.warn(\n",
      "/home/dominic/.local/lib/python3.8/site-packages/sklearn/tree/_classes.py:315: FutureWarning: The min_impurity_split parameter is deprecated. Its default value has changed from 1e-7 to 0 in version 0.23, and it will be removed in 1.0 (renaming of 0.25). Use the min_impurity_decrease parameter instead.\n",
      "  warnings.warn(\n",
      "/home/dominic/.local/lib/python3.8/site-packages/sklearn/tree/_classes.py:315: FutureWarning: The min_impurity_split parameter is deprecated. Its default value has changed from 1e-7 to 0 in version 0.23, and it will be removed in 1.0 (renaming of 0.25). Use the min_impurity_decrease parameter instead.\n",
      "  warnings.warn(\n"
     ]
    }
   ],
   "source": [
    "%time best_csp_models = tune_csp_args()\n",
    "best_csp_models"
   ]
  },
  {
   "cell_type": "markdown",
   "id": "living-promotion",
   "metadata": {},
   "source": [
    "## Model Evaluation And Selection ##"
   ]
  },
  {
   "cell_type": "markdown",
   "id": "chinese-tracker",
   "metadata": {},
   "source": []
  }
 ],
 "metadata": {
  "kernelspec": {
   "display_name": "Python 3",
   "language": "python",
   "name": "python3"
  },
  "language_info": {
   "codemirror_mode": {
    "name": "ipython",
    "version": 3
   },
   "file_extension": ".py",
   "mimetype": "text/x-python",
   "name": "python",
   "nbconvert_exporter": "python",
   "pygments_lexer": "ipython3",
   "version": "3.8.5"
  }
 },
 "nbformat": 4,
 "nbformat_minor": 5
}
