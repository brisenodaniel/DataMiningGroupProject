{
 "cells": [
  {
   "cell_type": "code",
   "execution_count": 18,
   "metadata": {},
   "outputs": [],
   "source": [
    "from scipy import io\n",
    "\n",
    "# files need to be in the same folder\n",
    "\n",
    "data_cube = io.loadmat('data_cube_subject1.mat')"
   ]
  },
  {
   "cell_type": "code",
   "execution_count": 43,
   "metadata": {},
   "outputs": [],
   "source": [
    "# extract data and labels\n",
    "\n",
    "data = loaded['data_cube']\n",
    "labels = loaded['event_label']"
   ]
  },
  {
   "cell_type": "code",
   "execution_count": 48,
   "metadata": {},
   "outputs": [
    {
     "data": {
      "text/plain": [
       "(100, 1)"
      ]
     },
     "execution_count": 48,
     "metadata": {},
     "output_type": "execute_result"
    }
   ],
   "source": [
    "import pandas as pd\n",
    "import numpy as np\n",
    "\n",
    "df = np.array(data)\n",
    "\n",
    "# Dimensionality reduction using mean over channels\n",
    "df_2d = np.mean(data[:][:][:],0)\n",
    "\n",
    "# Get 2 dataframes for each condition\n",
    "df = pd.DataFrame(df_2d)\n",
    "\n",
    "df_A = df.iloc[:,0:100]\n",
    "df_B = df.iloc[:,100:200]\n",
    "\n",
    "labels_A = labels[0:100]\n",
    "labels_B = labels[100:200]\n",
    "labels_B.shape\n",
    "\n",
    "\n"
   ]
  },
  {
   "cell_type": "code",
   "execution_count": 65,
   "metadata": {},
   "outputs": [
    {
     "data": {
      "text/plain": [
       "0.45"
      ]
     },
     "execution_count": 65,
     "metadata": {},
     "output_type": "execute_result"
    }
   ],
   "source": [
    "# LDA on condition A\n",
    "\n",
    "import sklearn as sk\n",
    "from sklearn.discriminant_analysis import LinearDiscriminantAnalysis as LDA\n",
    "from sklearn.model_selection import train_test_split\n",
    "from sklearn.metrics import accuracy_score\n",
    "\n",
    "X = df_A\n",
    "y = np.ravel(labels_A)\n",
    "\n",
    "X_train, X_test, y_train, y_test = train_test_split(X.T, y, test_size=0.2)\n",
    "\n",
    "clf = LDA()\n",
    "clf.fit(X_train, y_train)\n",
    "y_pred = clf.predict(X_test)\n",
    "\n",
    "accuracy_score(y_test, y_pred)\n",
    "\n",
    "\n",
    "\n"
   ]
  },
  {
   "cell_type": "code",
   "execution_count": 81,
   "metadata": {},
   "outputs": [
    {
     "data": {
      "text/plain": [
       "0.4"
      ]
     },
     "execution_count": 81,
     "metadata": {},
     "output_type": "execute_result"
    }
   ],
   "source": [
    "# Now let's try with different metrics -- mean and std\n",
    "\n",
    "X = np.array([np.mean(df_A,0), np.std(df_A,0)])\n",
    "y = np.ravel(labels_A)\n",
    "\n",
    "X_train, X_test, y_train, y_test = train_test_split(X.T, y, test_size=0.2)\n",
    "\n",
    "clf = LDA()\n",
    "clf.fit(X_train, y_train)\n",
    "y_pred = clf.predict(X_test)\n",
    "\n",
    "accuracy_score(y_test, y_pred)\n"
   ]
  },
  {
   "cell_type": "code",
   "execution_count": 94,
   "metadata": {},
   "outputs": [
    {
     "data": {
      "text/plain": [
       "(array([  3.,   4.,  32.,  60., 237., 194., 167., 237.,  42.,  24.]),\n",
       " array([0.1 , 0.17, 0.24, 0.31, 0.38, 0.45, 0.52, 0.59, 0.66, 0.73, 0.8 ]),\n",
       " <BarContainer object of 10 artists>)"
      ]
     },
     "execution_count": 94,
     "metadata": {},
     "output_type": "execute_result"
    },
    {
     "data": {
      "image/png": "[encoded data removed]",
      "text/plain": [
       "<Figure size 432x288 with 1 Axes>"
      ]
     },
     "metadata": {
      "needs_background": "light"
     },
     "output_type": "display_data"
    }
   ],
   "source": [
    "# Let's do dimensionality reduction over samples rather than channels:\n",
    "\n",
    "df = np.array(data)\n",
    "# Dimensionality reduction using mean over channels\n",
    "df_2d = np.mean(data[:][:][:],1)\n",
    "\n",
    "\n",
    "df = pd.DataFrame(df_2d)\n",
    "\n",
    "df_A = df.iloc[:,0:100]\n",
    "df_B = df.iloc[:,100:200]\n",
    "\n",
    "labels_A = labels[0:100]\n",
    "labels_B = labels[100:200]\n",
    "labels_B.shape\n",
    "\n",
    "X = df_A\n",
    "y = np.ravel(labels_A)\n",
    "\n",
    "acc = []\n",
    "\n",
    "# plot histogram of accuracies over 1000 iterations\n",
    "\n",
    "for i in range(1000):\n",
    "    X_train, X_test, y_train, y_test = train_test_split(X.T, y, test_size=0.2)\n",
    "\n",
    "    clf = LDA()\n",
    "    clf.fit(X_train, y_train)\n",
    "    y_pred = clf.predict(X_test)\n",
    "\n",
    "    acc.append(accuracy_score(y_test, y_pred))\n",
    "\n",
    "import matplotlib.pyplot as plt\n",
    "\n",
    "plt.hist(acc)\n",
    "\n"
   ]
  },
  {
   "cell_type": "code",
   "execution_count": null,
   "metadata": {},
   "outputs": [],
   "source": []
  }
 ],
 "metadata": {
  "kernelspec": {
   "display_name": "Python 3",
   "language": "python",
   "name": "python3"
  },
  "language_info": {
   "codemirror_mode": {
    "name": "ipython",
    "version": 3
   },
   "file_extension": ".py",
   "mimetype": "text/x-python",
   "name": "python",
   "nbconvert_exporter": "python",
   "pygments_lexer": "ipython3",
   "version": "3.8.5"
  }
 },
 "nbformat": 4,
 "nbformat_minor": 4
}
